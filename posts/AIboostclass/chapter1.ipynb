{
 "cells": [
  {
   "cell_type": "code",
   "execution_count": 9,
   "metadata": {},
   "outputs": [
    {
     "name": "stdout",
     "output_type": "stream",
     "text": [
      "[[ 10  13]\n",
      " [ 28  40]\n",
      " [ 46  67]\n",
      " [ 64  94]\n",
      " [ 82 121]] (5, 2)\n"
     ]
    }
   ],
   "source": [
    "import numpy as np\n",
    "\n",
    "arr1 = np.arange(15).reshape([5,3])\n",
    "arr2 = np.arange(6).reshape([3,2])\n",
    "dotArr = np.dot(arr1,arr2)\n",
    "print(dotArr, dotArr.shape)"
   ]
  },
  {
   "cell_type": "code",
   "execution_count": 10,
   "metadata": {},
   "outputs": [
    {
     "name": "stdout",
     "output_type": "stream",
     "text": [
      "[[ 5  7]\n",
      " [ 9 11]\n",
      " [ 2  4]\n",
      " [ 6  8]] [[ 5  7  2  4]\n",
      " [ 9 11  6  8]]\n"
     ]
    }
   ],
   "source": [
    "import numpy as np\n",
    "\n",
    "arr1 = [[5, 7], [9,11]]\n",
    "arr2 = [[2, 4], [6,8]]\n",
    "\n",
    "print(np.concatenate((arr1,arr2), axis=0), np.concatenate((arr1, arr2), axis=1))"
   ]
  },
  {
   "cell_type": "code",
   "execution_count": 55,
   "metadata": {},
   "outputs": [
    {
     "name": "stdout",
     "output_type": "stream",
     "text": [
      "HDD    19\n",
      "SSD    11\n",
      "dtype: int64 \n",
      "\n",
      "HDD    19\n",
      "SSD    11\n",
      "dtype: int64 \n",
      "\n",
      "      x\n",
      "HDD  19\n",
      "SSD  11 \n",
      "\n"
     ]
    }
   ],
   "source": [
    "import pandas as pd\n",
    "\n",
    "idx = [\"HDD\", \"SSD\", \"USB\", \"CLOUD\"]\n",
    "data = [19, 11, 5, 97]\n",
    "\n",
    "sr = pd.Series(data, idx)\n",
    "\n",
    "sr1 = sr[sr > 10]\n",
    "sr2 = sr1[sr1 <20]\n",
    "print(sr2, '\\n')\n",
    "\n",
    "sr1 = sr.loc[lambda x: x > 10]\n",
    "sr2 = sr1.loc[lambda x: x < 20]\n",
    "print(sr2, '\\n')\n",
    "\n",
    "sr1 =sr.to_frame(name='x').query('x > 10 and x < 20')\n",
    "print(sr1, '\\n')"
   ]
  },
  {
   "cell_type": "code",
   "execution_count": 163,
   "metadata": {},
   "outputs": [
    {
     "name": "stdout",
     "output_type": "stream",
     "text": [
      "     NAME       TYPE  PRICE\n",
      "0  cherry      fruit    100\n",
      "1   mango      fruit    110\n",
      "2  potato  vegetable     60\n",
      "3   onion  vegetable     80 \n",
      "      NAME       TYPE  PRICE\n",
      "0  pepper  vegetable     50\n",
      "1  carrot  vegetable     70\n",
      "2  banana      fruit     90\n",
      "3    kiwi      fruit    120 \n",
      "\n",
      "200\n"
     ]
    }
   ],
   "source": [
    "import pandas as pd\n",
    "\n",
    "raw_data = {\n",
    "    'NAME': ['cherry', 'mango', 'potato', 'onion'],\n",
    "    'TYPE': ['fruit', 'fruit', 'vegetable', 'vegetable'],\n",
    "    'PRICE': [100, 110, 60, 80]\n",
    "}\n",
    "raw2_data = {\n",
    "    'NAME': ['pepper', 'carrot', 'banana', 'kiwi'],\n",
    "    'TYPE': ['vegetable', 'vegetable', 'fruit', 'fruit'],\n",
    "    'PRICE': [50, 70, 90, 120]\n",
    "}\n",
    "df1 = pd.DataFrame(raw_data , columns=['NAME', 'TYPE', 'PRICE'])\n",
    "df2 = pd.DataFrame(raw2_data , columns=['NAME', 'TYPE', 'PRICE'])\n",
    "\n",
    "print(df1, '\\n', df2 ,'\\n')\n",
    "\n",
    "df_join = pd.concat([df1, df2])\n",
    "\n",
    "print(df_join[df_join['TYPE'] == 'fruit']['PRICE'].max() + df_join[df_join['TYPE'] == 'vegetable']['PRICE'].max())"
   ]
  },
  {
   "cell_type": "code",
   "execution_count": 181,
   "metadata": {},
   "outputs": [
    {
     "name": "stdout",
     "output_type": "stream",
     "text": [
      "      round_1  round_2  round_3  round_4  round_5\n",
      "mean     68.6     70.8     66.0     75.4     69.4\n",
      "max      91.0     96.0     90.0     97.0     99.0\n",
      "min      45.0     35.0     30.0     46.0     47.0\n"
     ]
    }
   ],
   "source": [
    "import pandas as pd\n",
    "\n",
    "Sue= [55, 65, 60, 66, 57]\n",
    "Ryan= [64, 77, 71, 79, 67]\n",
    "Jay= [88, 81, 79, 89, 77]\n",
    "Jane= [45, 35, 30, 46, 47]\n",
    "Anna= [91, 96, 90, 97, 99]\n",
    "\n",
    "index = ['round_1', 'round_2', 'round_3', 'round_4', 'round_5']\n",
    "\n",
    "df1 = pd.Series(Sue, index)\n",
    "df2 = pd.Series(Ryan, index)\n",
    "df3 = pd.Series(Jay, index)\n",
    "df4 = pd.Series(Jane, index)\n",
    "df5 = pd.Series(Anna, index)\n",
    "\n",
    "df = pd.DataFrame([df1, df2,df3, df4, df5],\n",
    "        index=['Sue', 'Ryan', 'Jay', 'Jane', 'Anna'])\n",
    "\n",
    "print(df.describe().loc[['mean', 'max', 'min']])\n"
   ]
  }
 ],
 "metadata": {
  "kernelspec": {
   "display_name": "myenv",
   "language": "python",
   "name": "python3"
  },
  "language_info": {
   "codemirror_mode": {
    "name": "ipython",
    "version": 3
   },
   "file_extension": ".py",
   "mimetype": "text/x-python",
   "name": "python",
   "nbconvert_exporter": "python",
   "pygments_lexer": "ipython3",
   "version": "3.10.13"
  },
  "orig_nbformat": 4
 },
 "nbformat": 4,
 "nbformat_minor": 2
}
